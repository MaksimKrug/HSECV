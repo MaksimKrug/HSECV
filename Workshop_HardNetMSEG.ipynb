{
 "cells": [
  {
   "cell_type": "markdown",
   "metadata": {},
   "source": [
    "## Data"
   ]
  },
  {
   "cell_type": "code",
   "execution_count": 1,
   "metadata": {},
   "outputs": [],
   "source": [
    "from data import *\n",
    "\n",
    "# dirs\n",
    "imgs_dir = \"Kvasir-SEG/images/*.jpg\"\n",
    "masks_dir = \"Kvasir-SEG/masks/*.jpg\"\n",
    "\n",
    "dataloader_train, dataloader_test, dataloader_val = get_data(imgs_dir, masks_dir, resize=352, batch_size=12)"
   ]
  },
  {
   "cell_type": "markdown",
   "metadata": {},
   "source": [
    "## Model"
   ]
  },
  {
   "cell_type": "code",
   "execution_count": 2,
   "metadata": {},
   "outputs": [
    {
     "name": "stdout",
     "output_type": "stream",
     "text": [
      "cuda:0\n"
     ]
    }
   ],
   "source": [
    "# check device\n",
    "device = torch.device(\"cuda:0\" if torch.cuda.is_available() else \"cpu\")\n",
    "print(device)"
   ]
  },
  {
   "cell_type": "code",
   "execution_count": 3,
   "metadata": {},
   "outputs": [],
   "source": [
    "from model import *\n",
    "model = HarDMSEG().cuda()"
   ]
  },
  {
   "cell_type": "code",
   "execution_count": 4,
   "metadata": {},
   "outputs": [],
   "source": [
    "from torchsummary import summary"
   ]
  },
  {
   "cell_type": "code",
   "execution_count": 5,
   "metadata": {
    "collapsed": true
   },
   "outputs": [
    {
     "name": "stdout",
     "output_type": "stream",
     "text": [
      "----------------------------------------------------------------\n",
      "        Layer (type)               Output Shape         Param #\n",
      "================================================================\n",
      "            Conv2d-1         [-1, 32, 176, 176]             864\n",
      "       BatchNorm2d-2         [-1, 32, 176, 176]              64\n",
      "             ReLU6-3         [-1, 32, 176, 176]               0\n",
      "            Conv2d-4         [-1, 64, 176, 176]          18,432\n",
      "       BatchNorm2d-5         [-1, 64, 176, 176]             128\n",
      "             ReLU6-6         [-1, 64, 176, 176]               0\n",
      "         MaxPool2d-7           [-1, 64, 88, 88]               0\n",
      "            Conv2d-8           [-1, 14, 88, 88]           8,064\n",
      "       BatchNorm2d-9           [-1, 14, 88, 88]              28\n",
      "            ReLU6-10           [-1, 14, 88, 88]               0\n",
      "           Conv2d-11           [-1, 24, 88, 88]          16,848\n",
      "      BatchNorm2d-12           [-1, 24, 88, 88]              48\n",
      "            ReLU6-13           [-1, 24, 88, 88]               0\n",
      "           Conv2d-14           [-1, 14, 88, 88]           3,024\n",
      "      BatchNorm2d-15           [-1, 14, 88, 88]              28\n",
      "            ReLU6-16           [-1, 14, 88, 88]               0\n",
      "           Conv2d-17           [-1, 40, 88, 88]          36,720\n",
      "      BatchNorm2d-18           [-1, 40, 88, 88]              80\n",
      "            ReLU6-19           [-1, 40, 88, 88]               0\n",
      "           Conv2d-20           [-1, 14, 88, 88]           5,040\n",
      "      BatchNorm2d-21           [-1, 14, 88, 88]              28\n",
      "            ReLU6-22           [-1, 14, 88, 88]               0\n",
      "           Conv2d-23           [-1, 24, 88, 88]          11,664\n",
      "      BatchNorm2d-24           [-1, 24, 88, 88]              48\n",
      "            ReLU6-25           [-1, 24, 88, 88]               0\n",
      "           Conv2d-26           [-1, 14, 88, 88]           3,024\n",
      "      BatchNorm2d-27           [-1, 14, 88, 88]              28\n",
      "            ReLU6-28           [-1, 14, 88, 88]               0\n",
      "           Conv2d-29           [-1, 68, 88, 88]          86,904\n",
      "      BatchNorm2d-30           [-1, 68, 88, 88]             136\n",
      "            ReLU6-31           [-1, 68, 88, 88]               0\n",
      "        HarDBlock-32          [-1, 124, 88, 88]               0\n",
      "           Conv2d-33          [-1, 128, 88, 88]          15,872\n",
      "      BatchNorm2d-34          [-1, 128, 88, 88]             256\n",
      "            ReLU6-35          [-1, 128, 88, 88]               0\n",
      "        MaxPool2d-36          [-1, 128, 44, 44]               0\n",
      "           Conv2d-37           [-1, 16, 44, 44]          18,432\n",
      "      BatchNorm2d-38           [-1, 16, 44, 44]              32\n",
      "            ReLU6-39           [-1, 16, 44, 44]               0\n",
      "           Conv2d-40           [-1, 28, 44, 44]          36,288\n",
      "      BatchNorm2d-41           [-1, 28, 44, 44]              56\n",
      "            ReLU6-42           [-1, 28, 44, 44]               0\n",
      "           Conv2d-43           [-1, 16, 44, 44]           4,032\n",
      "      BatchNorm2d-44           [-1, 16, 44, 44]              32\n",
      "            ReLU6-45           [-1, 16, 44, 44]               0\n",
      "           Conv2d-46           [-1, 46, 44, 44]          71,208\n",
      "      BatchNorm2d-47           [-1, 46, 44, 44]              92\n",
      "            ReLU6-48           [-1, 46, 44, 44]               0\n",
      "           Conv2d-49           [-1, 16, 44, 44]           6,624\n",
      "      BatchNorm2d-50           [-1, 16, 44, 44]              32\n",
      "            ReLU6-51           [-1, 16, 44, 44]               0\n",
      "           Conv2d-52           [-1, 28, 44, 44]          15,624\n",
      "      BatchNorm2d-53           [-1, 28, 44, 44]              56\n",
      "            ReLU6-54           [-1, 28, 44, 44]               0\n",
      "           Conv2d-55           [-1, 16, 44, 44]           4,032\n",
      "      BatchNorm2d-56           [-1, 16, 44, 44]              32\n",
      "            ReLU6-57           [-1, 16, 44, 44]               0\n",
      "           Conv2d-58           [-1, 78, 44, 44]         153,036\n",
      "      BatchNorm2d-59           [-1, 78, 44, 44]             156\n",
      "            ReLU6-60           [-1, 78, 44, 44]               0\n",
      "           Conv2d-61           [-1, 16, 44, 44]          11,232\n",
      "      BatchNorm2d-62           [-1, 16, 44, 44]              32\n",
      "            ReLU6-63           [-1, 16, 44, 44]               0\n",
      "           Conv2d-64           [-1, 28, 44, 44]          23,688\n",
      "      BatchNorm2d-65           [-1, 28, 44, 44]              56\n",
      "            ReLU6-66           [-1, 28, 44, 44]               0\n",
      "           Conv2d-67           [-1, 16, 44, 44]           4,032\n",
      "      BatchNorm2d-68           [-1, 16, 44, 44]              32\n",
      "            ReLU6-69           [-1, 16, 44, 44]               0\n",
      "           Conv2d-70           [-1, 46, 44, 44]          50,508\n",
      "      BatchNorm2d-71           [-1, 46, 44, 44]              92\n",
      "            ReLU6-72           [-1, 46, 44, 44]               0\n",
      "           Conv2d-73           [-1, 16, 44, 44]           6,624\n",
      "      BatchNorm2d-74           [-1, 16, 44, 44]              32\n",
      "            ReLU6-75           [-1, 16, 44, 44]               0\n",
      "           Conv2d-76           [-1, 28, 44, 44]          15,624\n",
      "      BatchNorm2d-77           [-1, 28, 44, 44]              56\n",
      "            ReLU6-78           [-1, 28, 44, 44]               0\n",
      "           Conv2d-79           [-1, 16, 44, 44]           4,032\n",
      "      BatchNorm2d-80           [-1, 16, 44, 44]              32\n",
      "            ReLU6-81           [-1, 16, 44, 44]               0\n",
      "           Conv2d-82          [-1, 134, 44, 44]         356,976\n",
      "      BatchNorm2d-83          [-1, 134, 44, 44]             268\n",
      "            ReLU6-84          [-1, 134, 44, 44]               0\n",
      "        HarDBlock-85          [-1, 262, 44, 44]               0\n",
      "           Conv2d-86          [-1, 256, 44, 44]          67,072\n",
      "      BatchNorm2d-87          [-1, 256, 44, 44]             512\n",
      "            ReLU6-88          [-1, 256, 44, 44]               0\n",
      "           Conv2d-89           [-1, 20, 44, 44]          46,080\n",
      "      BatchNorm2d-90           [-1, 20, 44, 44]              40\n",
      "            ReLU6-91           [-1, 20, 44, 44]               0\n",
      "           Conv2d-92           [-1, 34, 44, 44]          84,456\n",
      "      BatchNorm2d-93           [-1, 34, 44, 44]              68\n",
      "            ReLU6-94           [-1, 34, 44, 44]               0\n",
      "           Conv2d-95           [-1, 20, 44, 44]           6,120\n",
      "      BatchNorm2d-96           [-1, 20, 44, 44]              40\n",
      "            ReLU6-97           [-1, 20, 44, 44]               0\n",
      "           Conv2d-98           [-1, 58, 44, 44]         161,820\n",
      "      BatchNorm2d-99           [-1, 58, 44, 44]             116\n",
      "           ReLU6-100           [-1, 58, 44, 44]               0\n",
      "          Conv2d-101           [-1, 20, 44, 44]          10,440\n",
      "     BatchNorm2d-102           [-1, 20, 44, 44]              40\n",
      "           ReLU6-103           [-1, 20, 44, 44]               0\n",
      "          Conv2d-104           [-1, 34, 44, 44]          23,868\n",
      "     BatchNorm2d-105           [-1, 34, 44, 44]              68\n",
      "           ReLU6-106           [-1, 34, 44, 44]               0\n",
      "          Conv2d-107           [-1, 20, 44, 44]           6,120\n",
      "     BatchNorm2d-108           [-1, 20, 44, 44]              40\n",
      "           ReLU6-109           [-1, 20, 44, 44]               0\n",
      "          Conv2d-110           [-1, 98, 44, 44]         324,576\n",
      "     BatchNorm2d-111           [-1, 98, 44, 44]             196\n",
      "           ReLU6-112           [-1, 98, 44, 44]               0\n",
      "          Conv2d-113           [-1, 20, 44, 44]          17,640\n",
      "     BatchNorm2d-114           [-1, 20, 44, 44]              40\n",
      "           ReLU6-115           [-1, 20, 44, 44]               0\n",
      "          Conv2d-116           [-1, 34, 44, 44]          36,108\n",
      "     BatchNorm2d-117           [-1, 34, 44, 44]              68\n",
      "           ReLU6-118           [-1, 34, 44, 44]               0\n",
      "          Conv2d-119           [-1, 20, 44, 44]           6,120\n",
      "     BatchNorm2d-120           [-1, 20, 44, 44]              40\n",
      "           ReLU6-121           [-1, 20, 44, 44]               0\n",
      "          Conv2d-122           [-1, 58, 44, 44]          79,344\n",
      "     BatchNorm2d-123           [-1, 58, 44, 44]             116\n",
      "           ReLU6-124           [-1, 58, 44, 44]               0\n",
      "          Conv2d-125           [-1, 20, 44, 44]          10,440\n",
      "     BatchNorm2d-126           [-1, 20, 44, 44]              40\n",
      "           ReLU6-127           [-1, 20, 44, 44]               0\n",
      "          Conv2d-128           [-1, 34, 44, 44]          23,868\n",
      "     BatchNorm2d-129           [-1, 34, 44, 44]              68\n",
      "           ReLU6-130           [-1, 34, 44, 44]               0\n",
      "          Conv2d-131           [-1, 20, 44, 44]           6,120\n",
      "     BatchNorm2d-132           [-1, 20, 44, 44]              40\n",
      "           ReLU6-133           [-1, 20, 44, 44]               0\n",
      "          Conv2d-134          [-1, 168, 44, 44]         704,592\n",
      "     BatchNorm2d-135          [-1, 168, 44, 44]             336\n",
      "           ReLU6-136          [-1, 168, 44, 44]               0\n",
      "       HarDBlock-137          [-1, 328, 44, 44]               0\n",
      "          Conv2d-138          [-1, 320, 44, 44]         104,960\n",
      "     BatchNorm2d-139          [-1, 320, 44, 44]             640\n",
      "           ReLU6-140          [-1, 320, 44, 44]               0\n",
      "       MaxPool2d-141          [-1, 320, 22, 22]               0\n",
      "          Conv2d-142           [-1, 40, 22, 22]         115,200\n",
      "     BatchNorm2d-143           [-1, 40, 22, 22]              80\n",
      "           ReLU6-144           [-1, 40, 22, 22]               0\n",
      "          Conv2d-145           [-1, 68, 22, 22]         220,320\n",
      "     BatchNorm2d-146           [-1, 68, 22, 22]             136\n",
      "           ReLU6-147           [-1, 68, 22, 22]               0\n",
      "          Conv2d-148           [-1, 40, 22, 22]          24,480\n",
      "     BatchNorm2d-149           [-1, 40, 22, 22]              80\n",
      "           ReLU6-150           [-1, 40, 22, 22]               0\n",
      "          Conv2d-151          [-1, 116, 22, 22]         446,832\n",
      "     BatchNorm2d-152          [-1, 116, 22, 22]             232\n",
      "           ReLU6-153          [-1, 116, 22, 22]               0\n",
      "          Conv2d-154           [-1, 40, 22, 22]          41,760\n",
      "     BatchNorm2d-155           [-1, 40, 22, 22]              80\n",
      "           ReLU6-156           [-1, 40, 22, 22]               0\n",
      "          Conv2d-157           [-1, 68, 22, 22]          95,472\n",
      "     BatchNorm2d-158           [-1, 68, 22, 22]             136\n",
      "           ReLU6-159           [-1, 68, 22, 22]               0\n",
      "          Conv2d-160           [-1, 40, 22, 22]          24,480\n",
      "     BatchNorm2d-161           [-1, 40, 22, 22]              80\n",
      "           ReLU6-162           [-1, 40, 22, 22]               0\n",
      "          Conv2d-163          [-1, 196, 22, 22]         959,616\n",
      "     BatchNorm2d-164          [-1, 196, 22, 22]             392\n",
      "           ReLU6-165          [-1, 196, 22, 22]               0\n",
      "          Conv2d-166           [-1, 40, 22, 22]          70,560\n",
      "     BatchNorm2d-167           [-1, 40, 22, 22]              80\n",
      "           ReLU6-168           [-1, 40, 22, 22]               0\n",
      "          Conv2d-169           [-1, 68, 22, 22]         144,432\n",
      "     BatchNorm2d-170           [-1, 68, 22, 22]             136\n",
      "           ReLU6-171           [-1, 68, 22, 22]               0\n",
      "          Conv2d-172           [-1, 40, 22, 22]          24,480\n",
      "     BatchNorm2d-173           [-1, 40, 22, 22]              80\n",
      "           ReLU6-174           [-1, 40, 22, 22]               0\n",
      "          Conv2d-175          [-1, 116, 22, 22]         317,376\n",
      "     BatchNorm2d-176          [-1, 116, 22, 22]             232\n",
      "           ReLU6-177          [-1, 116, 22, 22]               0\n",
      "          Conv2d-178           [-1, 40, 22, 22]          41,760\n",
      "     BatchNorm2d-179           [-1, 40, 22, 22]              80\n",
      "           ReLU6-180           [-1, 40, 22, 22]               0\n",
      "          Conv2d-181           [-1, 68, 22, 22]          95,472\n",
      "     BatchNorm2d-182           [-1, 68, 22, 22]             136\n",
      "           ReLU6-183           [-1, 68, 22, 22]               0\n",
      "          Conv2d-184           [-1, 40, 22, 22]          24,480\n",
      "     BatchNorm2d-185           [-1, 40, 22, 22]              80\n",
      "           ReLU6-186           [-1, 40, 22, 22]               0\n",
      "          Conv2d-187          [-1, 334, 22, 22]       2,224,440\n",
      "     BatchNorm2d-188          [-1, 334, 22, 22]             668\n",
      "           ReLU6-189          [-1, 334, 22, 22]               0\n",
      "       HarDBlock-190          [-1, 654, 22, 22]               0\n",
      "          Conv2d-191          [-1, 640, 22, 22]         418,560\n",
      "     BatchNorm2d-192          [-1, 640, 22, 22]           1,280\n",
      "           ReLU6-193          [-1, 640, 22, 22]               0\n",
      "       MaxPool2d-194          [-1, 640, 11, 11]               0\n",
      "          Conv2d-195          [-1, 160, 11, 11]         921,600\n",
      "     BatchNorm2d-196          [-1, 160, 11, 11]             320\n",
      "           ReLU6-197          [-1, 160, 11, 11]               0\n",
      "          Conv2d-198          [-1, 272, 11, 11]       1,958,400\n",
      "     BatchNorm2d-199          [-1, 272, 11, 11]             544\n",
      "           ReLU6-200          [-1, 272, 11, 11]               0\n",
      "          Conv2d-201          [-1, 160, 11, 11]         391,680\n",
      "     BatchNorm2d-202          [-1, 160, 11, 11]             320\n",
      "           ReLU6-203          [-1, 160, 11, 11]               0\n",
      "          Conv2d-204          [-1, 462, 11, 11]       4,457,376\n",
      "     BatchNorm2d-205          [-1, 462, 11, 11]             924\n",
      "           ReLU6-206          [-1, 462, 11, 11]               0\n",
      "       HarDBlock-207          [-1, 782, 11, 11]               0\n",
      "          Conv2d-208         [-1, 1024, 11, 11]         800,768\n",
      "     BatchNorm2d-209         [-1, 1024, 11, 11]           2,048\n",
      "           ReLU6-210         [-1, 1024, 11, 11]               0\n",
      "         HarDNet-211  [[-1, 128, 88, 88], [-1, 320, 44, 44], [-1, 640, 22, 22], [-1, 1024, 11, 11]]               0\n",
      "          Conv2d-212           [-1, 32, 44, 44]          10,240\n",
      "     BatchNorm2d-213           [-1, 32, 44, 44]              64\n",
      "     BasicConv2d-214           [-1, 32, 44, 44]               0\n",
      "          Conv2d-215           [-1, 32, 44, 44]          10,240\n",
      "     BatchNorm2d-216           [-1, 32, 44, 44]              64\n",
      "     BasicConv2d-217           [-1, 32, 44, 44]               0\n",
      "          Conv2d-218           [-1, 32, 44, 44]           3,072\n",
      "     BatchNorm2d-219           [-1, 32, 44, 44]              64\n",
      "     BasicConv2d-220           [-1, 32, 44, 44]               0\n",
      "          Conv2d-221           [-1, 32, 44, 44]           3,072\n",
      "     BatchNorm2d-222           [-1, 32, 44, 44]              64\n",
      "     BasicConv2d-223           [-1, 32, 44, 44]               0\n",
      "          Conv2d-224           [-1, 32, 44, 44]           9,216\n",
      "     BatchNorm2d-225           [-1, 32, 44, 44]              64\n",
      "     BasicConv2d-226           [-1, 32, 44, 44]               0\n",
      "          Conv2d-227           [-1, 32, 44, 44]          10,240\n",
      "     BatchNorm2d-228           [-1, 32, 44, 44]              64\n",
      "     BasicConv2d-229           [-1, 32, 44, 44]               0\n",
      "          Conv2d-230           [-1, 32, 44, 44]           5,120\n",
      "     BatchNorm2d-231           [-1, 32, 44, 44]              64\n",
      "     BasicConv2d-232           [-1, 32, 44, 44]               0\n",
      "          Conv2d-233           [-1, 32, 44, 44]           5,120\n",
      "     BatchNorm2d-234           [-1, 32, 44, 44]              64\n",
      "     BasicConv2d-235           [-1, 32, 44, 44]               0\n",
      "          Conv2d-236           [-1, 32, 44, 44]           9,216\n",
      "     BatchNorm2d-237           [-1, 32, 44, 44]              64\n",
      "     BasicConv2d-238           [-1, 32, 44, 44]               0\n",
      "          Conv2d-239           [-1, 32, 44, 44]          10,240\n",
      "     BatchNorm2d-240           [-1, 32, 44, 44]              64\n",
      "     BasicConv2d-241           [-1, 32, 44, 44]               0\n",
      "          Conv2d-242           [-1, 32, 44, 44]           7,168\n",
      "     BatchNorm2d-243           [-1, 32, 44, 44]              64\n",
      "     BasicConv2d-244           [-1, 32, 44, 44]               0\n",
      "          Conv2d-245           [-1, 32, 44, 44]           7,168\n",
      "     BatchNorm2d-246           [-1, 32, 44, 44]              64\n",
      "     BasicConv2d-247           [-1, 32, 44, 44]               0\n",
      "          Conv2d-248           [-1, 32, 44, 44]           9,216\n",
      "     BatchNorm2d-249           [-1, 32, 44, 44]              64\n",
      "     BasicConv2d-250           [-1, 32, 44, 44]               0\n",
      "          Conv2d-251           [-1, 32, 44, 44]          36,864\n",
      "     BatchNorm2d-252           [-1, 32, 44, 44]              64\n",
      "     BasicConv2d-253           [-1, 32, 44, 44]               0\n",
      "          Conv2d-254           [-1, 32, 44, 44]          10,240\n",
      "     BatchNorm2d-255           [-1, 32, 44, 44]              64\n",
      "     BasicConv2d-256           [-1, 32, 44, 44]               0\n",
      "            ReLU-257           [-1, 32, 44, 44]               0\n",
      "    RFB_modified-258           [-1, 32, 44, 44]               0\n",
      "          Conv2d-259           [-1, 32, 22, 22]          20,480\n",
      "     BatchNorm2d-260           [-1, 32, 22, 22]              64\n",
      "     BasicConv2d-261           [-1, 32, 22, 22]               0\n",
      "          Conv2d-262           [-1, 32, 22, 22]          20,480\n",
      "     BatchNorm2d-263           [-1, 32, 22, 22]              64\n",
      "     BasicConv2d-264           [-1, 32, 22, 22]               0\n",
      "          Conv2d-265           [-1, 32, 22, 22]           3,072\n",
      "     BatchNorm2d-266           [-1, 32, 22, 22]              64\n",
      "     BasicConv2d-267           [-1, 32, 22, 22]               0\n",
      "          Conv2d-268           [-1, 32, 22, 22]           3,072\n",
      "     BatchNorm2d-269           [-1, 32, 22, 22]              64\n",
      "     BasicConv2d-270           [-1, 32, 22, 22]               0\n",
      "          Conv2d-271           [-1, 32, 22, 22]           9,216\n",
      "     BatchNorm2d-272           [-1, 32, 22, 22]              64\n",
      "     BasicConv2d-273           [-1, 32, 22, 22]               0\n",
      "          Conv2d-274           [-1, 32, 22, 22]          20,480\n",
      "     BatchNorm2d-275           [-1, 32, 22, 22]              64\n",
      "     BasicConv2d-276           [-1, 32, 22, 22]               0\n",
      "          Conv2d-277           [-1, 32, 22, 22]           5,120\n",
      "     BatchNorm2d-278           [-1, 32, 22, 22]              64\n",
      "     BasicConv2d-279           [-1, 32, 22, 22]               0\n",
      "          Conv2d-280           [-1, 32, 22, 22]           5,120\n",
      "     BatchNorm2d-281           [-1, 32, 22, 22]              64\n",
      "     BasicConv2d-282           [-1, 32, 22, 22]               0\n",
      "          Conv2d-283           [-1, 32, 22, 22]           9,216\n",
      "     BatchNorm2d-284           [-1, 32, 22, 22]              64\n",
      "     BasicConv2d-285           [-1, 32, 22, 22]               0\n",
      "          Conv2d-286           [-1, 32, 22, 22]          20,480\n",
      "     BatchNorm2d-287           [-1, 32, 22, 22]              64\n",
      "     BasicConv2d-288           [-1, 32, 22, 22]               0\n",
      "          Conv2d-289           [-1, 32, 22, 22]           7,168\n",
      "     BatchNorm2d-290           [-1, 32, 22, 22]              64\n",
      "     BasicConv2d-291           [-1, 32, 22, 22]               0\n",
      "          Conv2d-292           [-1, 32, 22, 22]           7,168\n",
      "     BatchNorm2d-293           [-1, 32, 22, 22]              64\n",
      "     BasicConv2d-294           [-1, 32, 22, 22]               0\n",
      "          Conv2d-295           [-1, 32, 22, 22]           9,216\n",
      "     BatchNorm2d-296           [-1, 32, 22, 22]              64\n",
      "     BasicConv2d-297           [-1, 32, 22, 22]               0\n",
      "          Conv2d-298           [-1, 32, 22, 22]          36,864\n",
      "     BatchNorm2d-299           [-1, 32, 22, 22]              64\n",
      "     BasicConv2d-300           [-1, 32, 22, 22]               0\n",
      "          Conv2d-301           [-1, 32, 22, 22]          20,480\n",
      "     BatchNorm2d-302           [-1, 32, 22, 22]              64\n",
      "     BasicConv2d-303           [-1, 32, 22, 22]               0\n",
      "            ReLU-304           [-1, 32, 22, 22]               0\n",
      "    RFB_modified-305           [-1, 32, 22, 22]               0\n",
      "          Conv2d-306           [-1, 32, 11, 11]          32,768\n",
      "     BatchNorm2d-307           [-1, 32, 11, 11]              64\n",
      "     BasicConv2d-308           [-1, 32, 11, 11]               0\n",
      "          Conv2d-309           [-1, 32, 11, 11]          32,768\n",
      "     BatchNorm2d-310           [-1, 32, 11, 11]              64\n",
      "     BasicConv2d-311           [-1, 32, 11, 11]               0\n",
      "          Conv2d-312           [-1, 32, 11, 11]           3,072\n",
      "     BatchNorm2d-313           [-1, 32, 11, 11]              64\n",
      "     BasicConv2d-314           [-1, 32, 11, 11]               0\n",
      "          Conv2d-315           [-1, 32, 11, 11]           3,072\n",
      "     BatchNorm2d-316           [-1, 32, 11, 11]              64\n",
      "     BasicConv2d-317           [-1, 32, 11, 11]               0\n",
      "          Conv2d-318           [-1, 32, 11, 11]           9,216\n",
      "     BatchNorm2d-319           [-1, 32, 11, 11]              64\n",
      "     BasicConv2d-320           [-1, 32, 11, 11]               0\n",
      "          Conv2d-321           [-1, 32, 11, 11]          32,768\n",
      "     BatchNorm2d-322           [-1, 32, 11, 11]              64\n",
      "     BasicConv2d-323           [-1, 32, 11, 11]               0\n",
      "          Conv2d-324           [-1, 32, 11, 11]           5,120\n",
      "     BatchNorm2d-325           [-1, 32, 11, 11]              64\n",
      "     BasicConv2d-326           [-1, 32, 11, 11]               0\n",
      "          Conv2d-327           [-1, 32, 11, 11]           5,120\n",
      "     BatchNorm2d-328           [-1, 32, 11, 11]              64\n",
      "     BasicConv2d-329           [-1, 32, 11, 11]               0\n",
      "          Conv2d-330           [-1, 32, 11, 11]           9,216\n",
      "     BatchNorm2d-331           [-1, 32, 11, 11]              64\n",
      "     BasicConv2d-332           [-1, 32, 11, 11]               0\n",
      "          Conv2d-333           [-1, 32, 11, 11]          32,768\n",
      "     BatchNorm2d-334           [-1, 32, 11, 11]              64\n",
      "     BasicConv2d-335           [-1, 32, 11, 11]               0\n",
      "          Conv2d-336           [-1, 32, 11, 11]           7,168\n",
      "     BatchNorm2d-337           [-1, 32, 11, 11]              64\n",
      "     BasicConv2d-338           [-1, 32, 11, 11]               0\n",
      "          Conv2d-339           [-1, 32, 11, 11]           7,168\n",
      "     BatchNorm2d-340           [-1, 32, 11, 11]              64\n",
      "     BasicConv2d-341           [-1, 32, 11, 11]               0\n",
      "          Conv2d-342           [-1, 32, 11, 11]           9,216\n",
      "     BatchNorm2d-343           [-1, 32, 11, 11]              64\n",
      "     BasicConv2d-344           [-1, 32, 11, 11]               0\n",
      "          Conv2d-345           [-1, 32, 11, 11]          36,864\n",
      "     BatchNorm2d-346           [-1, 32, 11, 11]              64\n",
      "     BasicConv2d-347           [-1, 32, 11, 11]               0\n",
      "          Conv2d-348           [-1, 32, 11, 11]          32,768\n",
      "     BatchNorm2d-349           [-1, 32, 11, 11]              64\n",
      "     BasicConv2d-350           [-1, 32, 11, 11]               0\n",
      "            ReLU-351           [-1, 32, 11, 11]               0\n",
      "    RFB_modified-352           [-1, 32, 11, 11]               0\n",
      "        Upsample-353           [-1, 32, 22, 22]               0\n",
      "          Conv2d-354           [-1, 32, 22, 22]           9,216\n",
      "     BatchNorm2d-355           [-1, 32, 22, 22]              64\n",
      "     BasicConv2d-356           [-1, 32, 22, 22]               0\n",
      "        Upsample-357           [-1, 32, 22, 22]               0\n",
      "        Upsample-358           [-1, 32, 44, 44]               0\n",
      "          Conv2d-359           [-1, 32, 44, 44]           9,216\n",
      "     BatchNorm2d-360           [-1, 32, 44, 44]              64\n",
      "     BasicConv2d-361           [-1, 32, 44, 44]               0\n",
      "        Upsample-362           [-1, 32, 44, 44]               0\n",
      "          Conv2d-363           [-1, 32, 44, 44]           9,216\n",
      "     BatchNorm2d-364           [-1, 32, 44, 44]              64\n",
      "     BasicConv2d-365           [-1, 32, 44, 44]               0\n",
      "        Upsample-366           [-1, 32, 22, 22]               0\n",
      "          Conv2d-367           [-1, 32, 22, 22]           9,216\n",
      "     BatchNorm2d-368           [-1, 32, 22, 22]              64\n",
      "     BasicConv2d-369           [-1, 32, 22, 22]               0\n",
      "          Conv2d-370           [-1, 64, 22, 22]          36,864\n",
      "     BatchNorm2d-371           [-1, 64, 22, 22]             128\n",
      "     BasicConv2d-372           [-1, 64, 22, 22]               0\n",
      "        Upsample-373           [-1, 64, 44, 44]               0\n",
      "          Conv2d-374           [-1, 64, 44, 44]          36,864\n",
      "     BatchNorm2d-375           [-1, 64, 44, 44]             128\n",
      "     BasicConv2d-376           [-1, 64, 44, 44]               0\n",
      "          Conv2d-377           [-1, 96, 44, 44]          82,944\n",
      "     BatchNorm2d-378           [-1, 96, 44, 44]             192\n",
      "     BasicConv2d-379           [-1, 96, 44, 44]               0\n",
      "          Conv2d-380           [-1, 96, 44, 44]          82,944\n",
      "     BatchNorm2d-381           [-1, 96, 44, 44]             192\n",
      "     BasicConv2d-382           [-1, 96, 44, 44]               0\n",
      "          Conv2d-383            [-1, 1, 44, 44]              97\n",
      "     aggregation-384            [-1, 1, 44, 44]               0\n",
      "================================================================\n",
      "Total params: 17,423,837\n",
      "Trainable params: 17,423,837\n",
      "Non-trainable params: 0\n",
      "----------------------------------------------------------------\n",
      "Input size (MB): 1.42\n",
      "Forward/backward pass size (MB): 309.49\n",
      "Params size (MB): 66.47\n",
      "Estimated Total Size (MB): 377.38\n",
      "----------------------------------------------------------------\n"
     ]
    }
   ],
   "source": [
    "summary(model, (3, 352, 352))"
   ]
  },
  {
   "cell_type": "markdown",
   "metadata": {},
   "source": [
    "## Train"
   ]
  },
  {
   "cell_type": "code",
   "execution_count": 6,
   "metadata": {},
   "outputs": [
    {
     "name": "stdout",
     "output_type": "stream",
     "text": [
      "Device: cuda:0\n"
     ]
    }
   ],
   "source": [
    "from train import train"
   ]
  },
  {
   "cell_type": "code",
   "execution_count": 7,
   "metadata": {},
   "outputs": [
    {
     "name": "stderr",
     "output_type": "stream",
     "text": [
      "  0%|▎                                                                               | 1/300 [00:58<4:53:08, 58.82s/it]"
     ]
    },
    {
     "name": "stdout",
     "output_type": "stream",
     "text": [
      "---------------\n",
      "Epoch: 0\n",
      "TRAIN: Loss: 0.924, Precision: 0.719, Recall: 0.855, mDice: 0.772\n",
      "VAL: Loss: 0.897, Precision: 0.757, Recall: 0.785, mDice: 0.758\n",
      "---------------\n"
     ]
    },
    {
     "name": "stderr",
     "output_type": "stream",
     "text": [
      "  7%|█████▌                                                                         | 21/300 [20:51<4:37:49, 59.75s/it]"
     ]
    },
    {
     "name": "stdout",
     "output_type": "stream",
     "text": [
      "---------------\n",
      "Epoch: 20\n",
      "TRAIN: Loss: 0.238, Precision: 0.951, Recall: 0.946, mDice: 0.948\n",
      "VAL: Loss: 0.455, Precision: 0.911, Recall: 0.824, mDice: 0.86\n",
      "---------------\n"
     ]
    },
    {
     "name": "stderr",
     "output_type": "stream",
     "text": [
      " 14%|██████████▊                                                                    | 41/300 [40:47<4:18:22, 59.86s/it]"
     ]
    },
    {
     "name": "stdout",
     "output_type": "stream",
     "text": [
      "---------------\n",
      "Epoch: 40\n",
      "TRAIN: Loss: 0.196, Precision: 0.962, Recall: 0.962, mDice: 0.962\n",
      "VAL: Loss: 0.458, Precision: 0.894, Recall: 0.836, mDice: 0.856\n",
      "---------------\n"
     ]
    },
    {
     "name": "stderr",
     "output_type": "stream",
     "text": [
      " 20%|███████████████▋                                                             | 61/300 [1:00:45<3:58:54, 59.98s/it]"
     ]
    },
    {
     "name": "stdout",
     "output_type": "stream",
     "text": [
      "---------------\n",
      "Epoch: 60\n",
      "TRAIN: Loss: 0.191, Precision: 0.964, Recall: 0.966, mDice: 0.965\n",
      "VAL: Loss: 0.454, Precision: 0.896, Recall: 0.836, mDice: 0.858\n",
      "---------------\n"
     ]
    },
    {
     "name": "stderr",
     "output_type": "stream",
     "text": [
      " 27%|████████████████████▊                                                        | 81/300 [1:20:44<3:38:59, 60.00s/it]"
     ]
    },
    {
     "name": "stdout",
     "output_type": "stream",
     "text": [
      "---------------\n",
      "Epoch: 80\n",
      "TRAIN: Loss: 0.197, Precision: 0.964, Recall: 0.964, mDice: 0.964\n",
      "VAL: Loss: 0.46, Precision: 0.893, Recall: 0.838, mDice: 0.857\n",
      "---------------\n"
     ]
    },
    {
     "name": "stderr",
     "output_type": "stream",
     "text": [
      " 34%|█████████████████████████▌                                                  | 101/300 [1:40:40<3:18:23, 59.81s/it]"
     ]
    },
    {
     "name": "stdout",
     "output_type": "stream",
     "text": [
      "---------------\n",
      "Epoch: 100\n",
      "TRAIN: Loss: 0.192, Precision: 0.965, Recall: 0.965, mDice: 0.965\n",
      "VAL: Loss: 0.452, Precision: 0.91, Recall: 0.826, mDice: 0.859\n",
      "---------------\n"
     ]
    },
    {
     "name": "stderr",
     "output_type": "stream",
     "text": [
      " 40%|██████████████████████████████▋                                             | 121/300 [2:00:38<2:59:02, 60.01s/it]"
     ]
    },
    {
     "name": "stdout",
     "output_type": "stream",
     "text": [
      "---------------\n",
      "Epoch: 120\n",
      "TRAIN: Loss: 0.193, Precision: 0.962, Recall: 0.968, mDice: 0.965\n",
      "VAL: Loss: 0.464, Precision: 0.886, Recall: 0.844, mDice: 0.857\n",
      "---------------\n"
     ]
    },
    {
     "name": "stderr",
     "output_type": "stream",
     "text": [
      " 47%|███████████████████████████████████▋                                        | 141/300 [2:20:36<2:38:40, 59.88s/it]"
     ]
    },
    {
     "name": "stdout",
     "output_type": "stream",
     "text": [
      "---------------\n",
      "Epoch: 140\n",
      "TRAIN: Loss: 0.194, Precision: 0.964, Recall: 0.964, mDice: 0.964\n",
      "VAL: Loss: 0.461, Precision: 0.894, Recall: 0.832, mDice: 0.854\n",
      "---------------\n"
     ]
    },
    {
     "name": "stderr",
     "output_type": "stream",
     "text": [
      " 54%|████████████████████████████████████████▊                                   | 161/300 [2:40:33<2:18:54, 59.96s/it]"
     ]
    },
    {
     "name": "stdout",
     "output_type": "stream",
     "text": [
      "---------------\n",
      "Epoch: 160\n",
      "TRAIN: Loss: 0.192, Precision: 0.961, Recall: 0.967, mDice: 0.964\n",
      "VAL: Loss: 0.463, Precision: 0.887, Recall: 0.841, mDice: 0.856\n",
      "---------------\n"
     ]
    },
    {
     "name": "stderr",
     "output_type": "stream",
     "text": [
      " 60%|█████████████████████████████████████████████▊                              | 181/300 [3:00:32<1:58:53, 59.94s/it]"
     ]
    },
    {
     "name": "stdout",
     "output_type": "stream",
     "text": [
      "---------------\n",
      "Epoch: 180\n",
      "TRAIN: Loss: 0.198, Precision: 0.96, Recall: 0.963, mDice: 0.962\n",
      "VAL: Loss: 0.45, Precision: 0.904, Recall: 0.831, mDice: 0.859\n",
      "---------------\n"
     ]
    },
    {
     "name": "stderr",
     "output_type": "stream",
     "text": [
      " 67%|██████████████████████████████████████████████████▉                         | 201/300 [3:20:28<1:38:38, 59.78s/it]"
     ]
    },
    {
     "name": "stdout",
     "output_type": "stream",
     "text": [
      "---------------\n",
      "Epoch: 200\n",
      "TRAIN: Loss: 0.188, Precision: 0.966, Recall: 0.965, mDice: 0.965\n",
      "VAL: Loss: 0.456, Precision: 0.901, Recall: 0.834, mDice: 0.858\n",
      "---------------\n"
     ]
    },
    {
     "name": "stderr",
     "output_type": "stream",
     "text": [
      " 74%|███████████████████████████████████████████████████████▉                    | 221/300 [3:40:25<1:18:51, 59.89s/it]"
     ]
    },
    {
     "name": "stdout",
     "output_type": "stream",
     "text": [
      "---------------\n",
      "Epoch: 220\n",
      "TRAIN: Loss: 0.188, Precision: 0.968, Recall: 0.963, mDice: 0.965\n",
      "VAL: Loss: 0.452, Precision: 0.899, Recall: 0.833, mDice: 0.857\n",
      "---------------\n"
     ]
    },
    {
     "name": "stderr",
     "output_type": "stream",
     "text": [
      " 80%|██████████████████████████████████████████████████████████████▋               | 241/300 [4:00:22<58:47, 59.79s/it]"
     ]
    },
    {
     "name": "stdout",
     "output_type": "stream",
     "text": [
      "---------------\n",
      "Epoch: 240\n",
      "TRAIN: Loss: 0.196, Precision: 0.96, Recall: 0.966, mDice: 0.963\n",
      "VAL: Loss: 0.456, Precision: 0.897, Recall: 0.834, mDice: 0.857\n",
      "---------------\n"
     ]
    },
    {
     "name": "stderr",
     "output_type": "stream",
     "text": [
      " 87%|███████████████████████████████████████████████████████████████████▊          | 261/300 [4:20:18<38:54, 59.86s/it]"
     ]
    },
    {
     "name": "stdout",
     "output_type": "stream",
     "text": [
      "---------------\n",
      "Epoch: 260\n",
      "TRAIN: Loss: 0.189, Precision: 0.965, Recall: 0.966, mDice: 0.966\n",
      "VAL: Loss: 0.461, Precision: 0.896, Recall: 0.833, mDice: 0.856\n",
      "---------------\n"
     ]
    },
    {
     "name": "stderr",
     "output_type": "stream",
     "text": [
      " 94%|█████████████████████████████████████████████████████████████████████████     | 281/300 [4:40:14<18:57, 59.89s/it]"
     ]
    },
    {
     "name": "stdout",
     "output_type": "stream",
     "text": [
      "---------------\n",
      "Epoch: 280\n",
      "TRAIN: Loss: 0.192, Precision: 0.965, Recall: 0.965, mDice: 0.965\n",
      "VAL: Loss: 0.453, Precision: 0.903, Recall: 0.83, mDice: 0.858\n",
      "---------------\n"
     ]
    },
    {
     "name": "stderr",
     "output_type": "stream",
     "text": [
      "100%|██████████████████████████████████████████████████████████████████████████████| 300/300 [4:59:13<00:00, 59.85s/it]\n"
     ]
    }
   ],
   "source": [
    "train_loss, train_precision, train_recall, train_dice, val_loss, val_precision, val_recall, val_dice = train(model, dataloader_train, dataloader_val,batchsize=12, epochs_num=300)"
   ]
  },
  {
   "cell_type": "markdown",
   "metadata": {},
   "source": [
    "## Test HardNetMSEG"
   ]
  },
  {
   "cell_type": "code",
   "execution_count": 1,
   "metadata": {},
   "outputs": [],
   "source": [
    "from test import *\n",
    "from data import *"
   ]
  },
  {
   "cell_type": "code",
   "execution_count": 2,
   "metadata": {},
   "outputs": [],
   "source": [
    "# dirs\n",
    "imgs_dir = \"Kvasir-SEG/images/*.jpg\"\n",
    "masks_dir = \"Kvasir-SEG/masks/*.jpg\"\n",
    "\n",
    "dataloader_train, dataloader_test, dataloader_val = get_data(imgs_dir, masks_dir, resize=352, batch_size=12)"
   ]
  },
  {
   "cell_type": "code",
   "execution_count": 10,
   "metadata": {},
   "outputs": [
    {
     "name": "stderr",
     "output_type": "stream",
     "text": [
      "100it [00:07, 14.18it/s]"
     ]
    },
    {
     "name": "stdout",
     "output_type": "stream",
     "text": [
      "TEST: Loss: 0.389, Precision: 0.921, Recall: 0.87, mDice: 0.88\n"
     ]
    },
    {
     "name": "stderr",
     "output_type": "stream",
     "text": [
      "\n"
     ]
    }
   ],
   "source": [
    "get_test_score(dataloader_test, \"HardNetMSEG.pth\", batchsize=1)"
   ]
  },
  {
   "cell_type": "markdown",
   "metadata": {},
   "source": [
    "## Predict"
   ]
  },
  {
   "cell_type": "code",
   "execution_count": 1,
   "metadata": {},
   "outputs": [],
   "source": [
    "from predict_viz import *\n",
    "import glob"
   ]
  },
  {
   "cell_type": "code",
   "execution_count": 2,
   "metadata": {},
   "outputs": [
    {
     "data": {
      "image/png": "[encoded data removed]",
      "text/plain": [
       "<Figure size 1080x432 with 3 Axes>"
      ]
     },
     "metadata": {
      "needs_background": "light"
     },
     "output_type": "display_data"
    },
    {
     "name": "stdout",
     "output_type": "stream",
     "text": [
      "0.6622476577758789\n",
      "Wall time: 3.88 s\n"
     ]
    }
   ],
   "source": [
    "%%time\n",
    "img_num = 42\n",
    "\n",
    "\n",
    "img_dir = \"Kvasir-SEG/images/*.jpg\"\n",
    "mask_dir = \"Kvasir-SEG/masks/*.jpg\"\n",
    "img_path = glob.glob(img_dir)[img_num]\n",
    "mask_path = glob.glob(mask_dir)[img_num]\n",
    "\n",
    "pred_time = pred_and_viz(img_path, mask_path, model_path='HardNetMSEG.pth', resize=352)\n",
    "print(pred_time)"
   ]
  },
  {
   "cell_type": "code",
   "execution_count": null,
   "metadata": {},
   "outputs": [],
   "source": []
  },
  {
   "cell_type": "code",
   "execution_count": null,
   "metadata": {},
   "outputs": [],
   "source": []
  },
  {
   "cell_type": "code",
   "execution_count": null,
   "metadata": {},
   "outputs": [],
   "source": []
  }
 ],
 "metadata": {
  "kernelspec": {
   "display_name": "Python 3",
   "language": "python",
   "name": "python3"
  },
  "language_info": {
   "codemirror_mode": {
    "name": "ipython",
    "version": 3
   },
   "file_extension": ".py",
   "mimetype": "text/x-python",
   "name": "python",
   "nbconvert_exporter": "python",
   "pygments_lexer": "ipython3",
   "version": "3.8.5"
  }
 },
 "nbformat": 4,
 "nbformat_minor": 4
}
